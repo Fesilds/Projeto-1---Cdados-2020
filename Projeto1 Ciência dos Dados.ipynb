{
 "cells": [
  {
   "cell_type": "markdown",
   "metadata": {},
   "source": [
    "# Projeto 1 - Ciência dos Dados"
   ]
  },
  {
   "cell_type": "markdown",
   "metadata": {},
   "source": [
    "Nome: Felipe Junqueira Moraes\n",
    "\n",
    "Nome: João Roxo"
   ]
  },
  {
   "cell_type": "markdown",
   "metadata": {},
   "source": [
    "## Classificador automático de sentimento"
   ]
  },
  {
   "cell_type": "markdown",
   "metadata": {},
   "source": [
    "### Objetivo: "
   ]
  },
  {
   "cell_type": "markdown",
   "metadata": {},
   "source": [
    "Este projeto consiste em desenvolver um classificador automático de sentimento voltado para trânsito, ou seja, com o intuito de prever se de acordo com tweets feitos o transito tem probabilidade de estar mais ou menos intenso. Para isso, foi feito o download de 450 tweets, sendo 300 para treinamento e 150 para teste, os próprios foram classificado manualmente como: (0) = transito ruim, (1) = transito bom, (2) = Não relacionado. Com a base de dados de treinamento foi desenvolvido o código para classificar tweets automaticamente. Ao final, o classificador foi utilizado para classificar os tweerts da base de teste e com isso foi comparado com os classificados manualmente para checar se o classificador realmente é eficaz."
   ]
  },
  {
   "cell_type": "markdown",
   "metadata": {},
   "source": [
    "___\n",
    "Carregando algumas bibliotecas:"
   ]
  },
  {
   "cell_type": "code",
   "execution_count": 13,
   "metadata": {},
   "outputs": [],
   "source": [
    "%matplotlib inline\n",
    "import pandas as pd\n",
    "import matplotlib.pyplot as plt\n",
    "import numpy as np\n",
    "import os\n",
    "import re "
   ]
  },
  {
   "cell_type": "code",
   "execution_count": 14,
   "metadata": {
    "scrolled": false
   },
   "outputs": [
    {
     "name": "stdout",
     "output_type": "stream",
     "text": [
      "Esperamos trabalhar no diretório\n",
      "C:\\Users\\johnr\\Desktop\\Cdados dp\\Projeto-1---Cdados-2020\n"
     ]
    }
   ],
   "source": [
    "print('Esperamos trabalhar no diretório')\n",
    "print(os.getcwd())"
   ]
  },
  {
   "cell_type": "markdown",
   "metadata": {},
   "source": [
    "Função responsável por limpar os tweets:\n"
   ]
  },
  {
   "cell_type": "code",
   "execution_count": 19,
   "metadata": {},
   "outputs": [],
   "source": [
    "def cleanup(text):\n",
    "    punctuation = '[!-.:?;]'\n",
    "    pattern = re.compile(punctuation)\n",
    "    text_subbed = re.sub(pattern, ' ', text)\n",
    "    return text_subbed\n",
    "    "
   ]
  },
  {
   "cell_type": "markdown",
   "metadata": {},
   "source": [
    "Carregando a base de dados com os tweets classificados como relevantes e não relevantes:"
   ]
  },
  {
   "cell_type": "code",
   "execution_count": 16,
   "metadata": {},
   "outputs": [],
   "source": [
    "transito = pd.read_excel('Trânsito.xlsx')"
   ]
  },
  {
   "cell_type": "markdown",
   "metadata": {},
   "source": [
    "Categorizando os tweets:"
   ]
  },
  {
   "cell_type": "code",
   "execution_count": 17,
   "metadata": {},
   "outputs": [],
   "source": [
    "# 0 = Ruim\n",
    "# 1 = Bom\n",
    "# 2 = Não relacionado\n",
    "transito_0 = transito[transito[\"Classificação\"] == 0]\n",
    "transito_1 = transito[transito[\"Classificação\"] == 1]\n",
    "transito_2 = transito[transito[\"Classificação\"] == 2]"
   ]
  },
  {
   "cell_type": "markdown",
   "metadata": {},
   "source": [
    "Transformando tweets em string:"
   ]
  },
  {
   "cell_type": "code",
   "execution_count": 18,
   "metadata": {},
   "outputs": [],
   "source": [
    "T0 = \"\"\n",
    "for e in transito_0[\"Treinamento\"]:\n",
    "    T0 += e\n",
    "    \n",
    "T1 = \"\"\n",
    "for e in transito_1[\"Treinamento\"]:\n",
    "    T1 += e\n",
    "\n",
    "T2 = \"\" \n",
    "for e in transito_2[\"Treinamento\"]:\n",
    "    T2 += e\n",
    "\n",
    "TT = \"\"\n",
    "for e in transito[\"Treinamento\"]:\n",
    "    TT += e"
   ]
  },
  {
   "cell_type": "markdown",
   "metadata": {},
   "source": [
    "Limpeza de bases (utilizando função definida anteriormente):\n",
    "\n"
   ]
  },
  {
   "cell_type": "code",
   "execution_count": 21,
   "metadata": {},
   "outputs": [],
   "source": [
    "T0_limpa = cleanup(T0.lower())\n",
    "T1_limpa = cleanup(T1.lower())\n",
    "T2_limpa = cleanup(T2.lower())\n",
    "TT_limpa = cleanup(TT.lower())"
   ]
  },
  {
   "cell_type": "markdown",
   "metadata": {},
   "source": [
    "Transformando a base em series:\n"
   ]
  },
  {
   "cell_type": "code",
   "execution_count": 25,
   "metadata": {},
   "outputs": [],
   "source": [
    "serie_T0 = pd.Series(T0_limpa.split())\n",
    "serie_T1 = pd.Series(T1_limpa.split())\n",
    "serie_T2 = pd.Series(T2_limpa.split())\n",
    "serie_TT = pd.Series(TT_limpa.split())"
   ]
  },
  {
   "cell_type": "markdown",
   "metadata": {},
   "source": [
    "Obtendo a tabela de frequencias relativas:"
   ]
  },
  {
   "cell_type": "code",
   "execution_count": 27,
   "metadata": {},
   "outputs": [],
   "source": [
    "tabela_T0_relativa = serie_T0.value_counts(True)\n",
    "tabela_T1_relativa = serie_T1.value_counts(True)\n",
    "tabela_T2_relativa = serie_T2.value_counts(True)\n",
    "tabela_TT_relativa = serie_TT.value_counts(True)"
   ]
  },
  {
   "cell_type": "markdown",
   "metadata": {},
   "source": [
    "Probabilidades totais:"
   ]
  },
  {
   "cell_type": "code",
   "execution_count": 35,
   "metadata": {},
   "outputs": [],
   "source": [
    "total_T0 = tabela_T0_relativa.sum()\n",
    "total_T1 = tabela_T1_relativa.sum()\n",
    "total_T2 = tabela_T2_relativa.sum()\n",
    "total_TT = len(tabela_TT_relativa)"
   ]
  },
  {
   "cell_type": "markdown",
   "metadata": {},
   "source": [
    "### Classificando somente a base de testes:"
   ]
  },
  {
   "cell_type": "markdown",
   "metadata": {},
   "source": [
    "Importando somente a base de testes:"
   ]
  },
  {
   "cell_type": "code",
   "execution_count": 43,
   "metadata": {
    "scrolled": true
   },
   "outputs": [
    {
     "data": {
      "text/html": [
       "<div>\n",
       "<style scoped>\n",
       "    .dataframe tbody tr th:only-of-type {\n",
       "        vertical-align: middle;\n",
       "    }\n",
       "\n",
       "    .dataframe tbody tr th {\n",
       "        vertical-align: top;\n",
       "    }\n",
       "\n",
       "    .dataframe thead th {\n",
       "        text-align: right;\n",
       "    }\n",
       "</style>\n",
       "<table border=\"1\" class=\"dataframe\">\n",
       "  <thead>\n",
       "    <tr style=\"text-align: right;\">\n",
       "      <th></th>\n",
       "      <th>Teste</th>\n",
       "      <th>Classificação</th>\n",
       "    </tr>\n",
       "  </thead>\n",
       "  <tbody>\n",
       "    <tr>\n",
       "      <th>0</th>\n",
       "      <td>todo mundo resolveu ir trabalhar de carro hoje...</td>\n",
       "      <td>0</td>\n",
       "    </tr>\n",
       "    <tr>\n",
       "      <th>1</th>\n",
       "      <td>@gerdwenzel @tozzafla mas é a região com maior...</td>\n",
       "      <td>0</td>\n",
       "    </tr>\n",
       "    <tr>\n",
       "      <th>2</th>\n",
       "      <td>cheguei em vila velha. vim no lado do sol e tá...</td>\n",
       "      <td>0</td>\n",
       "    </tr>\n",
       "    <tr>\n",
       "      <th>3</th>\n",
       "      <td>rt @barretojoaog: caraca, as pessoas não estão...</td>\n",
       "      <td>1</td>\n",
       "    </tr>\n",
       "    <tr>\n",
       "      <th>4</th>\n",
       "      <td>bora dar uma moral praquela galera que se arri...</td>\n",
       "      <td>0</td>\n",
       "    </tr>\n",
       "    <tr>\n",
       "      <th>5</th>\n",
       "      <td>o caminho que costumo pegar todos os dias sem ...</td>\n",
       "      <td>1</td>\n",
       "    </tr>\n",
       "    <tr>\n",
       "      <th>6</th>\n",
       "      <td>ontem eu reacendi meu amor por dirigir. pela j...</td>\n",
       "      <td>1</td>\n",
       "    </tr>\n",
       "    <tr>\n",
       "      <th>7</th>\n",
       "      <td>rt @glaucosb: @augustodeab @pavarini as mortes...</td>\n",
       "      <td>0</td>\n",
       "    </tr>\n",
       "    <tr>\n",
       "      <th>8</th>\n",
       "      <td>os dias de suspensão do corona deram efeito he...</td>\n",
       "      <td>1</td>\n",
       "    </tr>\n",
       "    <tr>\n",
       "      <th>9</th>\n",
       "      <td>que transito filha da puta</td>\n",
       "      <td>0</td>\n",
       "    </tr>\n",
       "    <tr>\n",
       "      <th>10</th>\n",
       "      <td>gostei dessa auto escola, tão fazendo a gnt tr...</td>\n",
       "      <td>0</td>\n",
       "    </tr>\n",
       "    <tr>\n",
       "      <th>11</th>\n",
       "      <td>@xgvrcia e no trânsito tb</td>\n",
       "      <td>2</td>\n",
       "    </tr>\n",
       "    <tr>\n",
       "      <th>12</th>\n",
       "      <td>@anygabrielly amas para eles ter arma em casa ...</td>\n",
       "      <td>2</td>\n",
       "    </tr>\n",
       "    <tr>\n",
       "      <th>13</th>\n",
       "      <td>segunda nossa de cada dia, junto com nosos trâ...</td>\n",
       "      <td>1</td>\n",
       "    </tr>\n",
       "    <tr>\n",
       "      <th>14</th>\n",
       "      <td>passando no jornal que o movimento aqui na cid...</td>\n",
       "      <td>0</td>\n",
       "    </tr>\n",
       "    <tr>\n",
       "      <th>15</th>\n",
       "      <td>#cnh #crime #trânsito\\ndirigir com cnh suspens...</td>\n",
       "      <td>2</td>\n",
       "    </tr>\n",
       "    <tr>\n",
       "      <th>16</th>\n",
       "      <td>@veramagalhaes , com trânsito menor, são paulo...</td>\n",
       "      <td>1</td>\n",
       "    </tr>\n",
       "    <tr>\n",
       "      <th>17</th>\n",
       "      <td>@semob_bel a semob precisa se organizar, av. n...</td>\n",
       "      <td>2</td>\n",
       "    </tr>\n",
       "    <tr>\n",
       "      <th>18</th>\n",
       "      <td>vamo uber eu acredito no seu potencial contra ...</td>\n",
       "      <td>0</td>\n",
       "    </tr>\n",
       "    <tr>\n",
       "      <th>19</th>\n",
       "      <td>rt @ishpedro: coronavírus não chega em luziâni...</td>\n",
       "      <td>0</td>\n",
       "    </tr>\n",
       "    <tr>\n",
       "      <th>20</th>\n",
       "      <td>comecei a segunda bem, com trânsito e chegando...</td>\n",
       "      <td>0</td>\n",
       "    </tr>\n",
       "    <tr>\n",
       "      <th>21</th>\n",
       "      <td>foram avisados por uma criança baleada que aca...</td>\n",
       "      <td>2</td>\n",
       "    </tr>\n",
       "    <tr>\n",
       "      <th>22</th>\n",
       "      <td>tomara q 32 esteja sem trânsito</td>\n",
       "      <td>2</td>\n",
       "    </tr>\n",
       "    <tr>\n",
       "      <th>23</th>\n",
       "      <td>@quinhodepaula @uol e o doria estava lá. abriu...</td>\n",
       "      <td>2</td>\n",
       "    </tr>\n",
       "    <tr>\n",
       "      <th>24</th>\n",
       "      <td>ônibus vazio, 0 estudantes, 0 trânsito, obriga...</td>\n",
       "      <td>1</td>\n",
       "    </tr>\n",
       "    <tr>\n",
       "      <th>25</th>\n",
       "      <td>@springhare2000 @folha a ignorância chegou em ...</td>\n",
       "      <td>2</td>\n",
       "    </tr>\n",
       "    <tr>\n",
       "      <th>26</th>\n",
       "      <td>brasil - trecho de planalto\\ntempo bom\\ntrânsi...</td>\n",
       "      <td>1</td>\n",
       "    </tr>\n",
       "    <tr>\n",
       "      <th>27</th>\n",
       "      <td>ponte | deslocamento #sentido_rio: 12 min; htt...</td>\n",
       "      <td>2</td>\n",
       "    </tr>\n",
       "    <tr>\n",
       "      <th>28</th>\n",
       "      <td>medidas para restringir o ingresso em terras i...</td>\n",
       "      <td>2</td>\n",
       "    </tr>\n",
       "    <tr>\n",
       "      <th>29</th>\n",
       "      <td>professor falando q n é a favor da liberação d...</td>\n",
       "      <td>2</td>\n",
       "    </tr>\n",
       "    <tr>\n",
       "      <th>...</th>\n",
       "      <td>...</td>\n",
       "      <td>...</td>\n",
       "    </tr>\n",
       "    <tr>\n",
       "      <th>120</th>\n",
       "      <td>@_bellelais @cicerovidal4 kkkkkkkkkkkkkkkkkkkk...</td>\n",
       "      <td>2</td>\n",
       "    </tr>\n",
       "    <tr>\n",
       "      <th>121</th>\n",
       "      <td>rt @cco_sf: boa tarde!\\ninformamos que o trâns...</td>\n",
       "      <td>0</td>\n",
       "    </tr>\n",
       "    <tr>\n",
       "      <th>122</th>\n",
       "      <td>chefe peguei trânsito por causa do corona</td>\n",
       "      <td>2</td>\n",
       "    </tr>\n",
       "    <tr>\n",
       "      <th>123</th>\n",
       "      <td>bom dia, pegar esse trânsito tranquilo de manh...</td>\n",
       "      <td>1</td>\n",
       "    </tr>\n",
       "    <tr>\n",
       "      <th>124</th>\n",
       "      <td>nao tem trânsito nenhum em são paulo meu deus ...</td>\n",
       "      <td>1</td>\n",
       "    </tr>\n",
       "    <tr>\n",
       "      <th>125</th>\n",
       "      <td>rt @caaiomachado: ta parecendo ate feriado... ...</td>\n",
       "      <td>1</td>\n",
       "    </tr>\n",
       "    <tr>\n",
       "      <th>126</th>\n",
       "      <td>acidente envolvendo motocicleta e dois carros ...</td>\n",
       "      <td>0</td>\n",
       "    </tr>\n",
       "    <tr>\n",
       "      <th>127</th>\n",
       "      <td>@apyus @veramagalhaes levei 1h30 para chegar n...</td>\n",
       "      <td>0</td>\n",
       "    </tr>\n",
       "    <tr>\n",
       "      <th>128</th>\n",
       "      <td>@pedroafonsop + transito horrivel</td>\n",
       "      <td>0</td>\n",
       "    </tr>\n",
       "    <tr>\n",
       "      <th>129</th>\n",
       "      <td>eu ja saí de casa outros dias nesse horário e ...</td>\n",
       "      <td>1</td>\n",
       "    </tr>\n",
       "    <tr>\n",
       "      <th>130</th>\n",
       "      <td>rt @correio: morre homem baleado por pm após b...</td>\n",
       "      <td>2</td>\n",
       "    </tr>\n",
       "    <tr>\n",
       "      <th>131</th>\n",
       "      <td>rt @_pambenevides: essa segunda está muito est...</td>\n",
       "      <td>1</td>\n",
       "    </tr>\n",
       "    <tr>\n",
       "      <th>132</th>\n",
       "      <td>esse trânsito da itatiaia acaba comigo pqp</td>\n",
       "      <td>0</td>\n",
       "    </tr>\n",
       "    <tr>\n",
       "      <th>133</th>\n",
       "      <td>acidente c/ duas mortes na estrada do mar, em ...</td>\n",
       "      <td>2</td>\n",
       "    </tr>\n",
       "    <tr>\n",
       "      <th>134</th>\n",
       "      <td>@ericoleandro sim! a cidade inteira está meio ...</td>\n",
       "      <td>1</td>\n",
       "    </tr>\n",
       "    <tr>\n",
       "      <th>135</th>\n",
       "      <td>total de 0% de gente na rua hoje, não tem trân...</td>\n",
       "      <td>1</td>\n",
       "    </tr>\n",
       "    <tr>\n",
       "      <th>136</th>\n",
       "      <td>@_lbbrito to presa num trânsito que não pegava...</td>\n",
       "      <td>0</td>\n",
       "    </tr>\n",
       "    <tr>\n",
       "      <th>137</th>\n",
       "      <td>@oestebrook e o trânsito pra quem precisa sair...</td>\n",
       "      <td>0</td>\n",
       "    </tr>\n",
       "    <tr>\n",
       "      <th>138</th>\n",
       "      <td>@layla_bolsonaro @ecantanhede a zica , a dengu...</td>\n",
       "      <td>2</td>\n",
       "    </tr>\n",
       "    <tr>\n",
       "      <th>139</th>\n",
       "      <td>nao era pra galera estar em quarentena? pq dea...</td>\n",
       "      <td>0</td>\n",
       "    </tr>\n",
       "    <tr>\n",
       "      <th>140</th>\n",
       "      <td>última saída de casa pra resolver umas coisas ...</td>\n",
       "      <td>2</td>\n",
       "    </tr>\n",
       "    <tr>\n",
       "      <th>141</th>\n",
       "      <td>. rt @elpais_brasil: “preferi aproveitar a vid...</td>\n",
       "      <td>2</td>\n",
       "    </tr>\n",
       "    <tr>\n",
       "      <th>142</th>\n",
       "      <td>rt @soualvinegra: acabou de mostrar no rjtv qu...</td>\n",
       "      <td>1</td>\n",
       "    </tr>\n",
       "    <tr>\n",
       "      <th>143</th>\n",
       "      <td>@camararpseli @capuzzometal a questão não é pa...</td>\n",
       "      <td>2</td>\n",
       "    </tr>\n",
       "    <tr>\n",
       "      <th>144</th>\n",
       "      <td>obra de drenagem altera trânsito na zona sul d...</td>\n",
       "      <td>0</td>\n",
       "    </tr>\n",
       "    <tr>\n",
       "      <th>145</th>\n",
       "      <td>radial leste com trânsito leve, é tá acontecen...</td>\n",
       "      <td>1</td>\n",
       "    </tr>\n",
       "    <tr>\n",
       "      <th>146</th>\n",
       "      <td>aiai, acabei de presenciar uma batida de trâns...</td>\n",
       "      <td>2</td>\n",
       "    </tr>\n",
       "    <tr>\n",
       "      <th>147</th>\n",
       "      <td>pude sentir o impacto no trânsito na manhã des...</td>\n",
       "      <td>1</td>\n",
       "    </tr>\n",
       "    <tr>\n",
       "      <th>148</th>\n",
       "      <td>eu não tô entendendo esse trânsito parado de m...</td>\n",
       "      <td>0</td>\n",
       "    </tr>\n",
       "    <tr>\n",
       "      <th>149</th>\n",
       "      <td>bh está parecendo feriado: trânsito bom; comér...</td>\n",
       "      <td>1</td>\n",
       "    </tr>\n",
       "  </tbody>\n",
       "</table>\n",
       "<p>150 rows × 2 columns</p>\n",
       "</div>"
      ],
      "text/plain": [
       "                                                 Teste  Classificação\n",
       "0    todo mundo resolveu ir trabalhar de carro hoje...              0\n",
       "1    @gerdwenzel @tozzafla mas é a região com maior...              0\n",
       "2    cheguei em vila velha. vim no lado do sol e tá...              0\n",
       "3    rt @barretojoaog: caraca, as pessoas não estão...              1\n",
       "4    bora dar uma moral praquela galera que se arri...              0\n",
       "5    o caminho que costumo pegar todos os dias sem ...              1\n",
       "6    ontem eu reacendi meu amor por dirigir. pela j...              1\n",
       "7    rt @glaucosb: @augustodeab @pavarini as mortes...              0\n",
       "8    os dias de suspensão do corona deram efeito he...              1\n",
       "9                           que transito filha da puta              0\n",
       "10   gostei dessa auto escola, tão fazendo a gnt tr...              0\n",
       "11                           @xgvrcia e no trânsito tb              2\n",
       "12   @anygabrielly amas para eles ter arma em casa ...              2\n",
       "13   segunda nossa de cada dia, junto com nosos trâ...              1\n",
       "14   passando no jornal que o movimento aqui na cid...              0\n",
       "15   #cnh #crime #trânsito\\ndirigir com cnh suspens...              2\n",
       "16   @veramagalhaes , com trânsito menor, são paulo...              1\n",
       "17   @semob_bel a semob precisa se organizar, av. n...              2\n",
       "18   vamo uber eu acredito no seu potencial contra ...              0\n",
       "19   rt @ishpedro: coronavírus não chega em luziâni...              0\n",
       "20   comecei a segunda bem, com trânsito e chegando...              0\n",
       "21   foram avisados por uma criança baleada que aca...              2\n",
       "22                     tomara q 32 esteja sem trânsito              2\n",
       "23   @quinhodepaula @uol e o doria estava lá. abriu...              2\n",
       "24   ônibus vazio, 0 estudantes, 0 trânsito, obriga...              1\n",
       "25   @springhare2000 @folha a ignorância chegou em ...              2\n",
       "26   brasil - trecho de planalto\\ntempo bom\\ntrânsi...              1\n",
       "27   ponte | deslocamento #sentido_rio: 12 min; htt...              2\n",
       "28   medidas para restringir o ingresso em terras i...              2\n",
       "29   professor falando q n é a favor da liberação d...              2\n",
       "..                                                 ...            ...\n",
       "120  @_bellelais @cicerovidal4 kkkkkkkkkkkkkkkkkkkk...              2\n",
       "121  rt @cco_sf: boa tarde!\\ninformamos que o trâns...              0\n",
       "122          chefe peguei trânsito por causa do corona              2\n",
       "123  bom dia, pegar esse trânsito tranquilo de manh...              1\n",
       "124  nao tem trânsito nenhum em são paulo meu deus ...              1\n",
       "125  rt @caaiomachado: ta parecendo ate feriado... ...              1\n",
       "126  acidente envolvendo motocicleta e dois carros ...              0\n",
       "127  @apyus @veramagalhaes levei 1h30 para chegar n...              0\n",
       "128                  @pedroafonsop + transito horrivel              0\n",
       "129  eu ja saí de casa outros dias nesse horário e ...              1\n",
       "130  rt @correio: morre homem baleado por pm após b...              2\n",
       "131  rt @_pambenevides: essa segunda está muito est...              1\n",
       "132         esse trânsito da itatiaia acaba comigo pqp              0\n",
       "133  acidente c/ duas mortes na estrada do mar, em ...              2\n",
       "134  @ericoleandro sim! a cidade inteira está meio ...              1\n",
       "135  total de 0% de gente na rua hoje, não tem trân...              1\n",
       "136  @_lbbrito to presa num trânsito que não pegava...              0\n",
       "137  @oestebrook e o trânsito pra quem precisa sair...              0\n",
       "138  @layla_bolsonaro @ecantanhede a zica , a dengu...              2\n",
       "139  nao era pra galera estar em quarentena? pq dea...              0\n",
       "140  última saída de casa pra resolver umas coisas ...              2\n",
       "141  . rt @elpais_brasil: “preferi aproveitar a vid...              2\n",
       "142  rt @soualvinegra: acabou de mostrar no rjtv qu...              1\n",
       "143  @camararpseli @capuzzometal a questão não é pa...              2\n",
       "144  obra de drenagem altera trânsito na zona sul d...              0\n",
       "145  radial leste com trânsito leve, é tá acontecen...              1\n",
       "146  aiai, acabei de presenciar uma batida de trâns...              2\n",
       "147  pude sentir o impacto no trânsito na manhã des...              1\n",
       "148  eu não tô entendendo esse trânsito parado de m...              0\n",
       "149  bh está parecendo feriado: trânsito bom; comér...              1\n",
       "\n",
       "[150 rows x 2 columns]"
      ]
     },
     "execution_count": 43,
     "metadata": {},
     "output_type": "execute_result"
    }
   ],
   "source": [
    "tweetsT = pd.read_excel ('Trânsito.xlsx', sheet_name = 'Teste', index = False)\n",
    "tweetsT"
   ]
  },
  {
   "cell_type": "markdown",
   "metadata": {},
   "source": [
    "Limpando a Base:"
   ]
  },
  {
   "cell_type": "code",
   "execution_count": 44,
   "metadata": {},
   "outputs": [
    {
     "ename": "AttributeError",
     "evalue": "'DataFrame' object has no attribute 'lower'",
     "output_type": "error",
     "traceback": [
      "\u001b[1;31m---------------------------------------------------------------------------\u001b[0m",
      "\u001b[1;31mAttributeError\u001b[0m                            Traceback (most recent call last)",
      "\u001b[1;32m<ipython-input-44-3cfd2d9e47e5>\u001b[0m in \u001b[0;36m<module>\u001b[1;34m\u001b[0m\n\u001b[1;32m----> 1\u001b[1;33m \u001b[0mtweetsT_limpo\u001b[0m \u001b[1;33m=\u001b[0m \u001b[0mcleanup\u001b[0m\u001b[1;33m(\u001b[0m\u001b[0mtweetsT\u001b[0m\u001b[1;33m.\u001b[0m\u001b[0mlower\u001b[0m\u001b[1;33m(\u001b[0m\u001b[1;33m)\u001b[0m\u001b[1;33m)\u001b[0m\u001b[1;33m\u001b[0m\u001b[1;33m\u001b[0m\u001b[0m\n\u001b[0m",
      "\u001b[1;32mC:\\python\\lib\\site-packages\\pandas\\core\\generic.py\u001b[0m in \u001b[0;36m__getattr__\u001b[1;34m(self, name)\u001b[0m\n\u001b[0;32m   4374\u001b[0m             \u001b[1;32mif\u001b[0m \u001b[0mself\u001b[0m\u001b[1;33m.\u001b[0m\u001b[0m_info_axis\u001b[0m\u001b[1;33m.\u001b[0m\u001b[0m_can_hold_identifiers_and_holds_name\u001b[0m\u001b[1;33m(\u001b[0m\u001b[0mname\u001b[0m\u001b[1;33m)\u001b[0m\u001b[1;33m:\u001b[0m\u001b[1;33m\u001b[0m\u001b[1;33m\u001b[0m\u001b[0m\n\u001b[0;32m   4375\u001b[0m                 \u001b[1;32mreturn\u001b[0m \u001b[0mself\u001b[0m\u001b[1;33m[\u001b[0m\u001b[0mname\u001b[0m\u001b[1;33m]\u001b[0m\u001b[1;33m\u001b[0m\u001b[1;33m\u001b[0m\u001b[0m\n\u001b[1;32m-> 4376\u001b[1;33m             \u001b[1;32mreturn\u001b[0m \u001b[0mobject\u001b[0m\u001b[1;33m.\u001b[0m\u001b[0m__getattribute__\u001b[0m\u001b[1;33m(\u001b[0m\u001b[0mself\u001b[0m\u001b[1;33m,\u001b[0m \u001b[0mname\u001b[0m\u001b[1;33m)\u001b[0m\u001b[1;33m\u001b[0m\u001b[1;33m\u001b[0m\u001b[0m\n\u001b[0m\u001b[0;32m   4377\u001b[0m \u001b[1;33m\u001b[0m\u001b[0m\n\u001b[0;32m   4378\u001b[0m     \u001b[1;32mdef\u001b[0m \u001b[0m__setattr__\u001b[0m\u001b[1;33m(\u001b[0m\u001b[0mself\u001b[0m\u001b[1;33m,\u001b[0m \u001b[0mname\u001b[0m\u001b[1;33m,\u001b[0m \u001b[0mvalue\u001b[0m\u001b[1;33m)\u001b[0m\u001b[1;33m:\u001b[0m\u001b[1;33m\u001b[0m\u001b[1;33m\u001b[0m\u001b[0m\n",
      "\u001b[1;31mAttributeError\u001b[0m: 'DataFrame' object has no attribute 'lower'"
     ]
    }
   ],
   "source": [
    "tweetsT_limpo = cleanup(tweetsT.lower())"
   ]
  },
  {
   "cell_type": "markdown",
   "metadata": {},
   "source": [
    "___\n",
    "## Classificador automático de sentimento\n"
   ]
  },
  {
   "cell_type": "markdown",
   "metadata": {},
   "source": [
    "Faça aqui uma descrição do seu produto e o que considerou como relevante ou não relevante na classificação dos tweets.\n",
    "\n",
    "Esse projeto 1 consiste na análise do trânsito no Brasil, afim de saber se esse esta fluindo ou congestionado. Desse jeito é possível ver se mudanças "
   ]
  },
  {
   "cell_type": "markdown",
   "metadata": {},
   "source": [
    "___\n",
    "### Montando um Classificador Naive-Bayes\n",
    "\n",
    "Considerando apenas as mensagens da planilha Treinamento, ensine  seu classificador."
   ]
  },
  {
   "cell_type": "code",
   "execution_count": 21,
   "metadata": {},
   "outputs": [],
   "source": [
    "%%capture\n",
    "!pip install tweepy"
   ]
  },
  {
   "cell_type": "code",
   "execution_count": 22,
   "metadata": {},
   "outputs": [],
   "source": [
    "#imports\n",
    "import tweepy\n",
    "import math\n",
    "import os.path\n",
    "import pandas as pd\n",
    "import json\n",
    "from random import shuffle\n",
    "import pandas as pd\n",
    "import numpy as np\n",
    "import re\n",
    "import string\n",
    "from IPython.display import display\n",
    "from nltk.stem import PorterStemmer\n",
    "stemmer = PorterStemmer()"
   ]
  },
  {
   "cell_type": "markdown",
   "metadata": {},
   "source": [
    "## Conta: @Fesi_6000"
   ]
  },
  {
   "cell_type": "code",
   "execution_count": 23,
   "metadata": {},
   "outputs": [],
   "source": [
    "#Dados de autenticação do twitter:\n",
    "\n",
    "#leitura do arquivo no formato JSON\n",
    "with open('auth.pass') as fp:    \n",
    "    data = json.load(fp)\n",
    "\n",
    "#Configurando a biblioteca. Não modificar\n",
    "auth = tweepy.OAuthHandler(data['consumer_key'], data['consumer_secret'])\n",
    "auth.set_access_token(data['access_token'], data['access_token_secret'])"
   ]
  },
  {
   "cell_type": "code",
   "execution_count": 31,
   "metadata": {},
   "outputs": [],
   "source": [
    "#Produto \n",
    "produto = 'Trânsito'\n",
    "n = 500\n",
    "t = 450\n",
    "lang = 'pt'"
   ]
  },
  {
   "cell_type": "code",
   "execution_count": 32,
   "metadata": {},
   "outputs": [
    {
     "name": "stdout",
     "output_type": "stream",
     "text": [
      "750\n"
     ]
    }
   ],
   "source": [
    "#Pega twitch\n",
    "api = tweepy.API(auth)\n",
    "msgs = []\n",
    "msg_final=[]\n",
    "\n",
    "\n",
    "for msg in tweepy.Cursor(api.search, q=produto, lang=lang).items():  \n",
    "    msgs.append(msg.text.lower())\n",
    "    if len(msgs) > 1501:\n",
    "        break\n",
    "msg_final = set(msgs)\n",
    "\n",
    "\n",
    "Final = []\n",
    "i = 0\n",
    "for e in msg_final:\n",
    "    Final.append(e)\n",
    "    if len (Final) >= 750:\n",
    "        break\n",
    "\n",
    "shuffle(Final)\n",
    "print (len(Final))"
   ]
  },
  {
   "cell_type": "code",
   "execution_count": 33,
   "metadata": {},
   "outputs": [],
   "source": [
    "#Verifica se o arquivo não existe para não substituir um conjunto pronto\n",
    "if not os.path.isfile('./{0}.xlsx'.format(produto)):\n",
    "    \n",
    "    #Abre o arquivo para escrita\n",
    "    writer = pd.ExcelWriter('{0}.xlsx'.format(produto))\n",
    "\n",
    "    #divide o conjunto de mensagens em duas planilhas\n",
    "    dft = pd.DataFrame({'Treinamento' : pd.Series(Final[:t])})\n",
    "    dft.to_excel(excel_writer = writer, sheet_name = 'Treinamento', index = False)\n",
    "\n",
    "    dfc = pd.DataFrame({'Teste' : pd.Series(Final[t:])})\n",
    "    dfc.to_excel(excel_writer = writer, sheet_name = 'Teste', index = False)\n",
    "\n",
    "    #fecha o arquivo\n",
    "    writer.save()"
   ]
  },
  {
   "cell_type": "code",
   "execution_count": 1,
   "metadata": {},
   "outputs": [],
   "source": [
    "tweets = 'Trânsito.xlsx'"
   ]
  },
  {
   "cell_type": "code",
   "execution_count": null,
   "metadata": {},
   "outputs": [],
   "source": [
    "def limpez(txt):\n",
    "    pontuacoes = '[!-.:?;]'\n",
    "    pattern = re.compile(pontuacoes)\n",
    "    texto_limpo = re.sub(pattern, ' ', texto)\n",
    "    return text_subbed"
   ]
  },
  {
   "cell_type": "markdown",
   "metadata": {},
   "source": [
    "___\n",
    "### Verificando a performance do Classificador\n",
    "\n",
    "Agora você deve testar o seu classificador com a base de Testes."
   ]
  },
  {
   "cell_type": "code",
   "execution_count": null,
   "metadata": {},
   "outputs": [],
   "source": []
  },
  {
   "cell_type": "code",
   "execution_count": null,
   "metadata": {},
   "outputs": [],
   "source": []
  },
  {
   "cell_type": "code",
   "execution_count": null,
   "metadata": {},
   "outputs": [],
   "source": []
  },
  {
   "cell_type": "markdown",
   "metadata": {},
   "source": [
    "___\n",
    "### Concluindo"
   ]
  },
  {
   "cell_type": "code",
   "execution_count": null,
   "metadata": {},
   "outputs": [],
   "source": []
  },
  {
   "cell_type": "code",
   "execution_count": null,
   "metadata": {},
   "outputs": [],
   "source": []
  },
  {
   "cell_type": "markdown",
   "metadata": {},
   "source": [
    "___\n",
    "## Aperfeiçoamento:\n",
    "\n",
    "Os trabalhos vão evoluir em conceito dependendo da quantidade de itens avançados:\n",
    "\n",
    "* Limpar: \\n, :, \", ', (, ), etc SEM remover emojis\n",
    "* Corrigir separação de espaços entre palavras e emojis ou entre emojis e emojis\n",
    "* Propor outras limpezas e transformações que não afetem a qualidade da informação ou classificação\n",
    "* Criar categorias intermediárias de relevância baseadas na probabilidade: ex.: muito relevante, relevante, neutro, irrelevante, muito irrelevante (3 categorias: C, mais categorias conta para B)\n",
    "* Explicar por que não posso usar o próprio classificador para gerar mais amostras de treinamento\n",
    "* Propor diferentes cenários para Naïve Bayes fora do contexto do projeto\n",
    "* Sugerir e explicar melhorias reais com indicações concretas de como implementar (indicar como fazer e indicar material de pesquisa)\n",
    "* Montar um dashboard que periodicamente realiza análise de sentimento e visualiza estes dados"
   ]
  },
  {
   "cell_type": "markdown",
   "metadata": {},
   "source": [
    "___\n",
    "## Referências"
   ]
  },
  {
   "cell_type": "markdown",
   "metadata": {},
   "source": [
    "[Naive Bayes and Text Classification](https://arxiv.org/pdf/1410.5329.pdf)  **Mais completo**\n",
    "\n",
    "[A practical explanation of a Naive Bayes Classifier](https://monkeylearn.com/blog/practical-explanation-naive-bayes-classifier/) **Mais simples**"
   ]
  },
  {
   "cell_type": "code",
   "execution_count": null,
   "metadata": {},
   "outputs": [],
   "source": []
  }
 ],
 "metadata": {
  "kernelspec": {
   "display_name": "Python 3",
   "language": "python",
   "name": "python3"
  },
  "language_info": {
   "codemirror_mode": {
    "name": "ipython",
    "version": 3
   },
   "file_extension": ".py",
   "mimetype": "text/x-python",
   "name": "python",
   "nbconvert_exporter": "python",
   "pygments_lexer": "ipython3",
   "version": "3.7.1"
  }
 },
 "nbformat": 4,
 "nbformat_minor": 4
}
