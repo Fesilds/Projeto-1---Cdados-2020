{
 "cells": [
  {
   "cell_type": "markdown",
   "metadata": {},
   "source": [
    "\n",
    "Escreva seu nome: <font color=red>MEU NOME</font>"
   ]
  },
  {
   "cell_type": "markdown",
   "metadata": {},
   "source": [
    "Escreva seu login presente na folha de provas: <font color=red>login </font>"
   ]
  },
  {
   "cell_type": "markdown",
   "metadata": {},
   "source": [
    "\n",
    "\n",
    "# Avaliação Inicial de Ciência dos dados\n",
    "\n",
    "**2020 - 1o. semestre**"
   ]
  },
  {
   "cell_type": "markdown",
   "metadata": {},
   "source": [
    " ___\n",
    "#### Leia atentamente as instruções da Avaliação Inicial descritas na parte em papel e que devem ser seguidas rigorosamente aqui!"
   ]
  },
  {
   "cell_type": "markdown",
   "metadata": {},
   "source": [
    "___\n",
    "## Índice\n",
    "\n",
    "- [Titanic](#titanic)\n",
    "- [Questão 1](#q1)\n",
    "- [Questão 2](#q2)\n",
    "- [Questão 3](#q3)\n",
    "- [Questão 4](#q4)\n",
    "- [Questão 5](#q5)\n",
    "___"
   ]
  },
  {
   "cell_type": "markdown",
   "metadata": {},
   "source": [
    "<div id=\"titanic\"></div>\n",
    "\n",
    "## Titanic\n",
    "\n",
    "Entre as muitas competições disponíveis na plataforma Kaggle, encontra-se a de *Machine Learning* do Titanic conforme apresentado neste [link](https://www.kaggle.com/c/titanic/data).\n",
    "\n",
    "A base de dados apresentada no arquivo `titanic.xlsx` contém informação de 891 passageiros para os quais foram mensurados as seguintes informações (as categorias serão mantidas em inglês assim como os nomes das variáveis):\n",
    " \n",
    " * `Survived`: indica se passageiro sobreviveu ou não.\n",
    "    - 0 = No,\n",
    "    - 1 = Yes.\n",
    " * `Pclass`: indica a classe da passagem (*ticket*).\n",
    "    - 1 = 1st, \n",
    "    - 2 = 2nd, \n",
    "    - 3 = 3rd.\n",
    " * `Sex`: sexo do passageiro. \n",
    "    - female,\n",
    "    - male.\n",
    " * `Age`: idade em anos.\n",
    " * `Sibsp`: número de irmãos e/ou cônjuges a bordo do Titanic.\n",
    " * `Parch`: número de pais e/ou filhos a bordo do Titanic.\n",
    " * `Ticket`: número do *ticket*.\n",
    " * `Fare`: tarifa do passageiro.\n",
    " * `Cabin`: número da cabine.\n",
    " * `Embarked`: portão de embarque.\n",
    "    - C = Cherbourg, \n",
    "    - Q = Queenstown, \n",
    "    - S = Southampton.\n",
    "\n",
    "\n",
    "**Notas:**\n",
    "A variável `Pclass` pode ser considerada uma *proxy* da situação socioeconômico do passageiro, ou seja, \n",
    "1st = Upper, 2nd = Middle,  3rd = Lower.\n"
   ]
  },
  {
   "cell_type": "markdown",
   "metadata": {},
   "source": [
    "___\n",
    "Carregando algumas bibliotecas:"
   ]
  },
  {
   "cell_type": "code",
   "execution_count": null,
   "metadata": {},
   "outputs": [],
   "source": [
    "%matplotlib inline\n",
    "import pandas as pd\n",
    "import matplotlib.pyplot as plt\n",
    "import numpy as np\n",
    "import os"
   ]
  },
  {
   "cell_type": "code",
   "execution_count": null,
   "metadata": {
    "scrolled": false
   },
   "outputs": [],
   "source": [
    "print('Esperamos trabalhar no diretório')\n",
    "print(os.getcwd())"
   ]
  },
  {
   "cell_type": "markdown",
   "metadata": {},
   "source": [
    "Carregando os dados do arquivo `titanic.xlsx`:"
   ]
  },
  {
   "cell_type": "code",
   "execution_count": null,
   "metadata": {},
   "outputs": [],
   "source": [
    "titanic = pd.read_excel('titanic.xlsx')"
   ]
  },
  {
   "cell_type": "markdown",
   "metadata": {},
   "source": [
    "Para facilitar algumas análises nesta **Avaliação**, vamos excluir os passageiros que não possuem informação para a variável `Age` usando o comando `dropna()`:"
   ]
  },
  {
   "cell_type": "code",
   "execution_count": null,
   "metadata": {},
   "outputs": [],
   "source": [
    "dados = titanic.dropna(subset = ['Age']).copy()"
   ]
  },
  {
   "cell_type": "markdown",
   "metadata": {},
   "source": [
    "Para saber quantas linhas (passageiros) e colunas (variáveis) há no *DataFrame* nomeado `dados`:"
   ]
  },
  {
   "cell_type": "code",
   "execution_count": null,
   "metadata": {},
   "outputs": [],
   "source": [
    "dados.shape"
   ]
  },
  {
   "cell_type": "markdown",
   "metadata": {},
   "source": [
    "___\n",
    "**Definindo as variáveis qualitativas como categóricas:**\n",
    "\n",
    "O pandas não tem como saber quais variáveis são qualitativas ao carregar os dados. Então precisamos modificar as colunas explicitamente.\n",
    "\n",
    "Já deixamos isso pronto para você nesta avaliação:"
   ]
  },
  {
   "cell_type": "code",
   "execution_count": null,
   "metadata": {},
   "outputs": [],
   "source": [
    "dados.loc[:,'Survived'] = dados['Survived'].astype('category')\n",
    "dados.loc[:,'Pclass'] = dados['Pclass'].astype('category')\n",
    "dados.loc[:,'Sex'] = dados['Sex'].astype('category')\n",
    "dados.loc[:,'Cabin'] = dados['Cabin'].astype('category')\n",
    "dados.loc[:,'Embarked'] = dados['Embarked'].astype('category')"
   ]
  },
  {
   "cell_type": "markdown",
   "metadata": {},
   "source": [
    "Agora vamos renomear os rótulos das variáveis qualitativas `Survived` e `Pclass` com comando: `.cat.categories`:"
   ]
  },
  {
   "cell_type": "code",
   "execution_count": null,
   "metadata": {},
   "outputs": [],
   "source": [
    "dados.Survived.cat.categories = ['No', 'Yes']\n",
    "dados.Pclass.cat.categories = ['1st','2nd','3rd']"
   ]
  },
  {
   "cell_type": "markdown",
   "metadata": {},
   "source": [
    "___\n",
    "***DataFrame* `dados` que deve considerar na resolução das questões a seguir:**"
   ]
  },
  {
   "cell_type": "code",
   "execution_count": null,
   "metadata": {},
   "outputs": [],
   "source": [
    "dados.head(3)"
   ]
  },
  {
   "cell_type": "markdown",
   "metadata": {},
   "source": [
    "<div id=\"q1\"></div>\n",
    "\n",
    "___\n",
    "### Questão 1"
   ]
  },
  {
   "cell_type": "markdown",
   "metadata": {},
   "source": [
    "Faça as seguintes manipulações:\n",
    " 1. **[1 ponto]** Filtre apenas as linhas dos passageiros que **viajaram na segunda classe** e que **sobreviveram** e selecione as variáveis: `Age` e `Fare`. Guarde esse subconjunto em um novo *DataFrame* chamado `surv`.\n",
    " \n",
    " $\\hspace{0.5mm}$\n",
    " 1. **[1 ponto]** Nesse subconjunto `surv`, encontre o passageiro que pagou o maior valor de tarifa. Se houver mais de um, encontre o mais velho. **No Blackboard, preencha a idade e o valor da tarifa desse passageiro conforme valores encontrados neste item.**"
   ]
  },
  {
   "cell_type": "code",
   "execution_count": null,
   "metadata": {},
   "outputs": [],
   "source": [
    "# Coloque seu código aqui...\n"
   ]
  },
  {
   "cell_type": "markdown",
   "metadata": {},
   "source": [
    "<div id=\"q2\"></div>\n",
    "\n",
    "___\n",
    "### Questão 2"
   ]
  },
  {
   "cell_type": "markdown",
   "metadata": {},
   "source": [
    "Faça as seguintes manipulações considerando o *DataFrame* `dados`:\n",
    "  1. **[1 ponto]** Crie uma variável chamada `Age_group` que contenha as seguintes categorias a partir da variável `Age`:\n",
    "        * `Age` $<20$ years $\\rightarrow$ **child or teen**\n",
    "        * $20\\leq$ `Age` $<60$ years $\\rightarrow$ **adult**\n",
    "        * `Age` $\\geq60$ years $\\rightarrow$ **senior**\n",
    "  \n",
    "  $\\hspace{0.5mm}$\n",
    "  1. **[1 ponto]** Construa uma tabela de **frequências relativas** dessa nova variável `Age_group`. **No Blackboard, preencha as informações corretas correspondentes a tabela de frequências relativas geradas neste item.**"
   ]
  },
  {
   "cell_type": "code",
   "execution_count": null,
   "metadata": {},
   "outputs": [],
   "source": [
    "# Coloque seu código aqui...\n"
   ]
  },
  {
   "cell_type": "markdown",
   "metadata": {},
   "source": [
    "<div id=\"q3\"></div>\n",
    "\n",
    "___\n",
    "### Questão 3"
   ]
  },
  {
   "cell_type": "markdown",
   "metadata": {},
   "source": [
    "Faça as seguintes manipulações considerando o *DataFrame* `dados`:\n",
    "  1. **[1 ponto]** Crie uma tabela cruzada com as variáveis `Survived` e `Pclass` que contenha **as frequências relativas** que permitam visualizar o percentual de passageiros em cada categoria de `Pclass` **relativo ao total de passageiros em cada nível de `Survived`**.\n",
    "  \n",
    "  $\\hspace{0.5mm}$\n",
    "  1. **[1 ponto]** **No Blackboard, preencha as informações corretas correspondentes a tabela de frequências relativas geradas no item anterior.**\n"
   ]
  },
  {
   "cell_type": "code",
   "execution_count": null,
   "metadata": {},
   "outputs": [],
   "source": [
    "# Coloque seu código aqui...\n"
   ]
  },
  {
   "cell_type": "markdown",
   "metadata": {},
   "source": [
    "<div id=\"q4\"></div>\n",
    "\n",
    "___\n",
    "### Questão 4"
   ]
  },
  {
   "cell_type": "markdown",
   "metadata": {},
   "source": [
    "Faça as seguintes manipulações considerando o *DataFrame* `dados`:\n",
    "\n",
    "  1. **[1 ponto]** Para **cada nível da variável `Survived`**, crie uma tabela com medidas-resumo da variável `Fare`.\n",
    "  \n",
    "  $\\hspace{0.5mm}$\n",
    "  1. **[1 ponto]** **No Blackboard, verifique quais afirmações estão corretas de acordo com as medidas-resumo calculadas no item anterior.**"
   ]
  },
  {
   "cell_type": "code",
   "execution_count": null,
   "metadata": {},
   "outputs": [],
   "source": [
    "# Coloque seu código aqui...\n"
   ]
  },
  {
   "cell_type": "markdown",
   "metadata": {},
   "source": [
    "<div id=\"q5\"></div>\n",
    "\n",
    "___\n",
    "### Questão 5"
   ]
  },
  {
   "cell_type": "markdown",
   "metadata": {},
   "source": [
    "Estude a associação entre as variáveis `Age` e `Fare` separando os passageiros sobreviventes dos não sobreviventes.\n",
    "\n",
    "É possível afirmar, por exemplo, que pessoas mais velhas tendem a pagar por tarifas mais caras? E a associação entre essas variáveis quantitativas se dá da mesma forma entre os sobreviventes e não sobreviventes?\n",
    "\n",
    "Para investigar tais hipóteses, faça:\n",
    "\n",
    " 1. **[0.5 ponto]** Gere um **gráfico de dispersão** entre as variáveis `Age` e `Fare` considerando os passageiros sobreviventes e não sobreviventes separadamente.\n",
    " \n",
    " $\\hspace{0.5mm}$\n",
    " 1. **[0.5 ponto]** Calcule o **coeficiente de correlação linear** entre as variáveis `Age` e `Fare` só com os passageiros não sobreviventes. E a correlação só com os sobreviventes.\n",
    " \n",
    " $\\hspace{0.5mm}$\n",
    " 1. **[1 ponto]** **No Blackboard, responda as perguntas com base nos resultados dos itens anteriores.**"
   ]
  },
  {
   "cell_type": "code",
   "execution_count": null,
   "metadata": {},
   "outputs": [],
   "source": [
    "# Coloque seu código aqui...\n"
   ]
  }
 ],
 "metadata": {
  "kernelspec": {
   "display_name": "Python 3",
   "language": "python",
   "name": "python3"
  },
  "language_info": {
   "codemirror_mode": {
    "name": "ipython",
    "version": 3
   },
   "file_extension": ".py",
   "mimetype": "text/x-python",
   "name": "python",
   "nbconvert_exporter": "python",
   "pygments_lexer": "ipython3",
   "version": "3.7.1"
  }
 },
 "nbformat": 4,
 "nbformat_minor": 2
}
