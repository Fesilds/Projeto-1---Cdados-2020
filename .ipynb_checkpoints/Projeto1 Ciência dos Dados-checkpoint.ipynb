{
 "cells": [
  {
   "cell_type": "markdown",
   "metadata": {},
   "source": [
    "# Projeto 1 - Ciência dos Dados"
   ]
  },
  {
   "cell_type": "markdown",
   "metadata": {},
   "source": [
    "Nome: Felipe Junqueira Moraes\n",
    "\n",
    "Nome: João Roxo"
   ]
  },
  {
   "cell_type": "markdown",
   "metadata": {},
   "source": [
    "## Classificador automático de sentimento"
   ]
  },
  {
   "cell_type": "markdown",
   "metadata": {},
   "source": [
    "### Objetivo: "
   ]
  },
  {
   "cell_type": "markdown",
   "metadata": {},
   "source": [
    "Este projeto consiste em desenvolver um classificador automático de sentimento voltado para trânsito, ou seja, com o intuito de prever se de acordo com tweets feitos o transito tem probabilidade de estar mais ou menos intenso. Para isso, foi feito o download de 450 tweets, sendo 300 para treinamento e 150 para teste, os próprios foram classificado manualmente como: (0) = transito ruim, (1) = transito bom, (2) = Não relacionado. Com a base de dados de treinamento foi desenvolvido o código para classificar tweets automaticamente. Ao final, o classificador foi utilizado para classificar os tweerts da base de teste e com isso foi comparado com os classificados manualmente para checar se o classificador realmente é eficaz."
   ]
  },
  {
   "cell_type": "markdown",
   "metadata": {},
   "source": [
    "___\n",
    "Carregando algumas bibliotecas:"
   ]
  },
  {
   "cell_type": "code",
   "execution_count": 1,
   "metadata": {},
   "outputs": [],
   "source": [
    "%matplotlib inline\n",
    "import pandas as pd\n",
    "import matplotlib.pyplot as plt\n",
    "import numpy as np\n",
    "import os\n",
    "import re "
   ]
  },
  {
   "cell_type": "code",
   "execution_count": 2,
   "metadata": {
    "scrolled": false
   },
   "outputs": [
    {
     "name": "stdout",
     "output_type": "stream",
     "text": [
      "Esperamos trabalhar no diretório\n",
      "C:\\Users\\johnr\\Desktop\\Cdados dp\\Projeto-1---Cdados-2020\n"
     ]
    }
   ],
   "source": [
    "print('Esperamos trabalhar no diretório')\n",
    "print(os.getcwd())"
   ]
  },
  {
   "cell_type": "markdown",
   "metadata": {},
   "source": [
    "Função responsável por limpar os tweets:\n"
   ]
  },
  {
   "cell_type": "code",
   "execution_count": 3,
   "metadata": {},
   "outputs": [],
   "source": [
    "def cleanup(text):\n",
    "    punctuation = '[!-.:?;]'\n",
    "    pattern = re.compile(punctuation)\n",
    "    text_subbed = re.sub(pattern, ' ', text)\n",
    "    return text_subbed\n",
    "    "
   ]
  },
  {
   "cell_type": "markdown",
   "metadata": {},
   "source": [
    "### Montando um Classificador Naive-Bayes"
   ]
  },
  {
   "cell_type": "markdown",
   "metadata": {},
   "source": [
    "Carregando a base de dados com os tweets classificados como relevantes e não relevantes:"
   ]
  },
  {
   "cell_type": "code",
   "execution_count": 4,
   "metadata": {},
   "outputs": [],
   "source": [
    "transito = pd.read_excel('Trânsito.xlsx')"
   ]
  },
  {
   "cell_type": "markdown",
   "metadata": {},
   "source": [
    "Categorizando os tweets:"
   ]
  },
  {
   "cell_type": "code",
   "execution_count": 5,
   "metadata": {},
   "outputs": [],
   "source": [
    "# 0 = Ruim\n",
    "# 1 = Bom\n",
    "# 2 = Não relacionado\n",
    "transito_0 = transito[transito[\"Classificação\"] == 0]\n",
    "transito_1 = transito[transito[\"Classificação\"] == 1]\n",
    "transito_2 = transito[transito[\"Classificação\"] == 2]"
   ]
  },
  {
   "cell_type": "markdown",
   "metadata": {},
   "source": [
    "Transformando tweets em string:"
   ]
  },
  {
   "cell_type": "code",
   "execution_count": 6,
   "metadata": {},
   "outputs": [],
   "source": [
    "T0 = \"\"\n",
    "for e in transito_0[\"Treinamento\"]:\n",
    "    T0 += e\n",
    "    \n",
    "T1 = \"\"\n",
    "for e in transito_1[\"Treinamento\"]:\n",
    "    T1 += e\n",
    "\n",
    "T2 = \"\" \n",
    "for e in transito_2[\"Treinamento\"]:\n",
    "    T2 += e\n",
    "\n",
    "TT = \"\"\n",
    "for e in transito[\"Treinamento\"]:\n",
    "    TT += e"
   ]
  },
  {
   "cell_type": "markdown",
   "metadata": {},
   "source": [
    "Limpeza de bases (utilizando função definida anteriormente):\n",
    "\n"
   ]
  },
  {
   "cell_type": "code",
   "execution_count": 7,
   "metadata": {},
   "outputs": [],
   "source": [
    "T0_limpa = cleanup(T0.lower())\n",
    "T1_limpa = cleanup(T1.lower())\n",
    "T2_limpa = cleanup(T2.lower())\n",
    "TT_limpa = cleanup(TT.lower())"
   ]
  },
  {
   "cell_type": "markdown",
   "metadata": {},
   "source": [
    "Transformando a base em series:\n"
   ]
  },
  {
   "cell_type": "code",
   "execution_count": 8,
   "metadata": {},
   "outputs": [],
   "source": [
    "serie_T0 = pd.Series(T0_limpa.split())\n",
    "serie_T1 = pd.Series(T1_limpa.split())\n",
    "serie_T2 = pd.Series(T2_limpa.split())\n",
    "serie_TT = pd.Series(TT_limpa.split())"
   ]
  },
  {
   "cell_type": "markdown",
   "metadata": {},
   "source": [
    "Obtendo a tabela de frequencias relativas:"
   ]
  },
  {
   "cell_type": "code",
   "execution_count": 9,
   "metadata": {},
   "outputs": [],
   "source": [
    "tabela_T0_relativa = serie_T0.value_counts(True)\n",
    "tabela_T1_relativa = serie_T1.value_counts(True)\n",
    "tabela_T2_relativa = serie_T2.value_counts(True)\n",
    "tabela_TT_relativa = serie_TT.value_counts(True)"
   ]
  },
  {
   "cell_type": "code",
   "execution_count": 10,
   "metadata": {},
   "outputs": [],
   "source": [
    "tabela_T0 = serie_T0.value_counts()\n",
    "tabela_T1 = serie_T1.value_counts()\n",
    "tabela_T2 = serie_T2.value_counts()\n",
    "tabela_TT = serie_TT.value_counts()"
   ]
  },
  {
   "cell_type": "markdown",
   "metadata": {},
   "source": [
    "Probabilidades totais:"
   ]
  },
  {
   "cell_type": "code",
   "execution_count": 11,
   "metadata": {},
   "outputs": [],
   "source": [
    "total_T0 = tabela_T0.sum()\n",
    "total_T1 = tabela_T1.sum()\n",
    "total_T2 = tabela_T2.sum()\n",
    "total_TT = len(tabela_TT)"
   ]
  },
  {
   "cell_type": "markdown",
   "metadata": {},
   "source": [
    "## Classificando somente a base de testes:"
   ]
  },
  {
   "cell_type": "markdown",
   "metadata": {},
   "source": [
    "Importando somente a base de testes:"
   ]
  },
  {
   "cell_type": "code",
   "execution_count": 12,
   "metadata": {
    "scrolled": true
   },
   "outputs": [],
   "source": [
    "tweetsT = pd.read_excel ('Trânsito.xlsx', sheet_name = 'Teste', index = False)"
   ]
  },
  {
   "cell_type": "markdown",
   "metadata": {},
   "source": [
    "Separando tweets em frase e limpando:"
   ]
  },
  {
   "cell_type": "markdown",
   "metadata": {},
   "source": [
    "### Antes de usar a base de teste, é necessário escrever as funções responsáveis por futuramente classifica-los."
   ]
  },
  {
   "cell_type": "markdown",
   "metadata": {},
   "source": [
    "Utilizando o método laplace para calcular as probabilidades das palavras:"
   ]
  },
  {
   "cell_type": "code",
   "execution_count": 13,
   "metadata": {},
   "outputs": [],
   "source": [
    "def laplace(palavra):\n",
    "    \n",
    "    if palavra in tabela_T1:\n",
    "        x = tabela_T1[palavra]\n",
    "    else:\n",
    "        x = 0\n",
    "\n",
    "    if palavra in tabela_T0:\n",
    "        y = tabela_T0[palavra]\n",
    "    else:\n",
    "        y = 0 \n",
    "\n",
    "    if palavra in tabela_T2:\n",
    "        z = tabela_T2[palavra]\n",
    "    else:\n",
    "        z = 0     \n",
    "    #prob de cada palavra de ser bom\n",
    "    prob_bom = (x + 1)/ (total_T1 + total_TT)\n",
    "    #prob de cada palavra de ser ruim\n",
    "    prob_ruim = (y + 1)/ (total_T0 + total_TT)\n",
    "    #prob de cada palavra de ser n_relacionado\n",
    "    prob_n_relacionado = (z + 1)/ (total_T2 + total_TT)\n",
    "    return [prob_bom, prob_ruim,prob_n_relacionado]"
   ]
  },
  {
   "cell_type": "markdown",
   "metadata": {},
   "source": [
    "Função que calcula a probabilidade de tweet ser bom, ruim ou não relaciondo:"
   ]
  },
  {
   "cell_type": "code",
   "execution_count": 14,
   "metadata": {},
   "outputs": [],
   "source": [
    "def calcula_prob_tweet(tweet):\n",
    "    prob_tweet_bom=[]\n",
    "    prob_tweet_ruim=[]\n",
    "    prob_tweet_n_relevante=[]\n",
    "    \n",
    "    prob_bom_tweet=1\n",
    "    prob_ruim_tweet=1\n",
    "    prob_n_relacionado_tweet=1\n",
    "    \n",
    "    for palavra in tweet:\n",
    "        prob = laplace(palavra)\n",
    "        prob_tweet_bom.append(prob[0])\n",
    "        prob_tweet_ruim.append(prob[1])\n",
    "        prob_tweet_n_relevante.append(prob[2])\n",
    "    \n",
    "    for a in prob_tweet_bom:\n",
    "        if a > 0:\n",
    "            prob_bom_tweet *= a\n",
    "        \n",
    "    for b in prob_tweet_ruim:\n",
    "        if b > 0:\n",
    "            prob_ruim_tweet *= b\n",
    "        \n",
    "    for c in prob_tweet_n_relevante:\n",
    "        if c > 0:\n",
    "            prob_n_relacionado_tweet *= c\n",
    "            \n",
    "    return[prob_bom_tweet,prob_ruim_tweet,prob_n_relacionado_tweet]\n",
    "            \n"
   ]
  },
  {
   "cell_type": "markdown",
   "metadata": {},
   "source": [
    "Limpando a base de teste, aplicando as funções acima e classificando os twwets:"
   ]
  },
  {
   "cell_type": "code",
   "execution_count": 15,
   "metadata": {},
   "outputs": [],
   "source": [
    "frases_limpas= []\n",
    "prob_todos=[]\n",
    "lista_probabilidades=[]\n",
    "classificacao_todos=[]\n",
    "for frases in tweetsT['Teste']:\n",
    "    frases_limpas.append(cleanup(frases.lower()))\n",
    "for tweet in frases_limpas:\n",
    "    tweet_split = tweet.split()\n",
    "    prob_todos.append(calcula_prob_tweet(tweet_split))\n",
    "    \n",
    "for probi in prob_todos:\n",
    "    if probi[0]>probi[1] and probi[0]>probi[2]:\n",
    "          classificacao_todos.append(1)\n",
    "        \n",
    "    elif probi[1]>probi[0] and probi[1]>probi[2]:\n",
    "          classificacao_todos.append(0)\n",
    "        \n",
    "    else:\n",
    "          classificacao_todos.append(2) \n",
    " \n",
    "    \n"
   ]
  },
  {
   "cell_type": "markdown",
   "metadata": {},
   "source": [
    "### Verificando a performance do Classificador\n"
   ]
  },
  {
   "cell_type": "code",
   "execution_count": 16,
   "metadata": {
    "scrolled": true
   },
   "outputs": [
    {
     "data": {
      "text/html": [
       "<div>\n",
       "<style scoped>\n",
       "    .dataframe tbody tr th:only-of-type {\n",
       "        vertical-align: middle;\n",
       "    }\n",
       "\n",
       "    .dataframe tbody tr th {\n",
       "        vertical-align: top;\n",
       "    }\n",
       "\n",
       "    .dataframe thead th {\n",
       "        text-align: right;\n",
       "    }\n",
       "</style>\n",
       "<table border=\"1\" class=\"dataframe\">\n",
       "  <thead>\n",
       "    <tr style=\"text-align: right;\">\n",
       "      <th></th>\n",
       "      <th>Tweet</th>\n",
       "      <th>Resultado Treinamento</th>\n",
       "      <th>Classificação</th>\n",
       "    </tr>\n",
       "  </thead>\n",
       "  <tbody>\n",
       "    <tr>\n",
       "      <th>0</th>\n",
       "      <td>todo mundo resolveu ir trabalhar de carro hoje...</td>\n",
       "      <td>1</td>\n",
       "      <td>0</td>\n",
       "    </tr>\n",
       "    <tr>\n",
       "      <th>1</th>\n",
       "      <td>@gerdwenzel @tozzafla mas é a região com maior...</td>\n",
       "      <td>1</td>\n",
       "      <td>0</td>\n",
       "    </tr>\n",
       "    <tr>\n",
       "      <th>2</th>\n",
       "      <td>cheguei em vila velha. vim no lado do sol e tá...</td>\n",
       "      <td>1</td>\n",
       "      <td>0</td>\n",
       "    </tr>\n",
       "    <tr>\n",
       "      <th>3</th>\n",
       "      <td>rt @barretojoaog: caraca, as pessoas não estão...</td>\n",
       "      <td>1</td>\n",
       "      <td>1</td>\n",
       "    </tr>\n",
       "    <tr>\n",
       "      <th>4</th>\n",
       "      <td>bora dar uma moral praquela galera que se arri...</td>\n",
       "      <td>2</td>\n",
       "      <td>0</td>\n",
       "    </tr>\n",
       "    <tr>\n",
       "      <th>5</th>\n",
       "      <td>o caminho que costumo pegar todos os dias sem ...</td>\n",
       "      <td>2</td>\n",
       "      <td>1</td>\n",
       "    </tr>\n",
       "    <tr>\n",
       "      <th>6</th>\n",
       "      <td>ontem eu reacendi meu amor por dirigir. pela j...</td>\n",
       "      <td>0</td>\n",
       "      <td>1</td>\n",
       "    </tr>\n",
       "    <tr>\n",
       "      <th>7</th>\n",
       "      <td>rt @glaucosb: @augustodeab @pavarini as mortes...</td>\n",
       "      <td>2</td>\n",
       "      <td>0</td>\n",
       "    </tr>\n",
       "    <tr>\n",
       "      <th>8</th>\n",
       "      <td>os dias de suspensão do corona deram efeito he...</td>\n",
       "      <td>0</td>\n",
       "      <td>1</td>\n",
       "    </tr>\n",
       "    <tr>\n",
       "      <th>9</th>\n",
       "      <td>que transito filha da puta</td>\n",
       "      <td>2</td>\n",
       "      <td>0</td>\n",
       "    </tr>\n",
       "    <tr>\n",
       "      <th>10</th>\n",
       "      <td>gostei dessa auto escola, tão fazendo a gnt tr...</td>\n",
       "      <td>0</td>\n",
       "      <td>0</td>\n",
       "    </tr>\n",
       "    <tr>\n",
       "      <th>11</th>\n",
       "      <td>@xgvrcia e no trânsito tb</td>\n",
       "      <td>1</td>\n",
       "      <td>2</td>\n",
       "    </tr>\n",
       "    <tr>\n",
       "      <th>12</th>\n",
       "      <td>@anygabrielly amas para eles ter arma em casa ...</td>\n",
       "      <td>2</td>\n",
       "      <td>2</td>\n",
       "    </tr>\n",
       "    <tr>\n",
       "      <th>13</th>\n",
       "      <td>segunda nossa de cada dia, junto com nosos trâ...</td>\n",
       "      <td>1</td>\n",
       "      <td>1</td>\n",
       "    </tr>\n",
       "    <tr>\n",
       "      <th>14</th>\n",
       "      <td>passando no jornal que o movimento aqui na cid...</td>\n",
       "      <td>1</td>\n",
       "      <td>0</td>\n",
       "    </tr>\n",
       "    <tr>\n",
       "      <th>15</th>\n",
       "      <td>#cnh #crime #trânsito\\ndirigir com cnh suspens...</td>\n",
       "      <td>2</td>\n",
       "      <td>2</td>\n",
       "    </tr>\n",
       "    <tr>\n",
       "      <th>16</th>\n",
       "      <td>@veramagalhaes , com trânsito menor, são paulo...</td>\n",
       "      <td>1</td>\n",
       "      <td>1</td>\n",
       "    </tr>\n",
       "    <tr>\n",
       "      <th>17</th>\n",
       "      <td>@semob_bel a semob precisa se organizar, av. n...</td>\n",
       "      <td>0</td>\n",
       "      <td>2</td>\n",
       "    </tr>\n",
       "    <tr>\n",
       "      <th>18</th>\n",
       "      <td>vamo uber eu acredito no seu potencial contra ...</td>\n",
       "      <td>0</td>\n",
       "      <td>0</td>\n",
       "    </tr>\n",
       "    <tr>\n",
       "      <th>19</th>\n",
       "      <td>rt @ishpedro: coronavírus não chega em luziâni...</td>\n",
       "      <td>2</td>\n",
       "      <td>0</td>\n",
       "    </tr>\n",
       "    <tr>\n",
       "      <th>20</th>\n",
       "      <td>comecei a segunda bem, com trânsito e chegando...</td>\n",
       "      <td>1</td>\n",
       "      <td>0</td>\n",
       "    </tr>\n",
       "    <tr>\n",
       "      <th>21</th>\n",
       "      <td>foram avisados por uma criança baleada que aca...</td>\n",
       "      <td>0</td>\n",
       "      <td>2</td>\n",
       "    </tr>\n",
       "    <tr>\n",
       "      <th>22</th>\n",
       "      <td>tomara q 32 esteja sem trânsito</td>\n",
       "      <td>1</td>\n",
       "      <td>2</td>\n",
       "    </tr>\n",
       "    <tr>\n",
       "      <th>23</th>\n",
       "      <td>@quinhodepaula @uol e o doria estava lá. abriu...</td>\n",
       "      <td>1</td>\n",
       "      <td>2</td>\n",
       "    </tr>\n",
       "    <tr>\n",
       "      <th>24</th>\n",
       "      <td>ônibus vazio, 0 estudantes, 0 trânsito, obriga...</td>\n",
       "      <td>1</td>\n",
       "      <td>1</td>\n",
       "    </tr>\n",
       "    <tr>\n",
       "      <th>25</th>\n",
       "      <td>@springhare2000 @folha a ignorância chegou em ...</td>\n",
       "      <td>2</td>\n",
       "      <td>2</td>\n",
       "    </tr>\n",
       "    <tr>\n",
       "      <th>26</th>\n",
       "      <td>brasil - trecho de planalto\\ntempo bom\\ntrânsi...</td>\n",
       "      <td>1</td>\n",
       "      <td>1</td>\n",
       "    </tr>\n",
       "    <tr>\n",
       "      <th>27</th>\n",
       "      <td>ponte | deslocamento #sentido_rio: 12 min; htt...</td>\n",
       "      <td>0</td>\n",
       "      <td>2</td>\n",
       "    </tr>\n",
       "    <tr>\n",
       "      <th>28</th>\n",
       "      <td>medidas para restringir o ingresso em terras i...</td>\n",
       "      <td>2</td>\n",
       "      <td>2</td>\n",
       "    </tr>\n",
       "    <tr>\n",
       "      <th>29</th>\n",
       "      <td>professor falando q n é a favor da liberação d...</td>\n",
       "      <td>2</td>\n",
       "      <td>2</td>\n",
       "    </tr>\n",
       "    <tr>\n",
       "      <th>...</th>\n",
       "      <td>...</td>\n",
       "      <td>...</td>\n",
       "      <td>...</td>\n",
       "    </tr>\n",
       "    <tr>\n",
       "      <th>120</th>\n",
       "      <td>@_bellelais @cicerovidal4 kkkkkkkkkkkkkkkkkkkk...</td>\n",
       "      <td>2</td>\n",
       "      <td>2</td>\n",
       "    </tr>\n",
       "    <tr>\n",
       "      <th>121</th>\n",
       "      <td>rt @cco_sf: boa tarde!\\ninformamos que o trâns...</td>\n",
       "      <td>0</td>\n",
       "      <td>0</td>\n",
       "    </tr>\n",
       "    <tr>\n",
       "      <th>122</th>\n",
       "      <td>chefe peguei trânsito por causa do corona</td>\n",
       "      <td>1</td>\n",
       "      <td>2</td>\n",
       "    </tr>\n",
       "    <tr>\n",
       "      <th>123</th>\n",
       "      <td>bom dia, pegar esse trânsito tranquilo de manh...</td>\n",
       "      <td>1</td>\n",
       "      <td>1</td>\n",
       "    </tr>\n",
       "    <tr>\n",
       "      <th>124</th>\n",
       "      <td>nao tem trânsito nenhum em são paulo meu deus ...</td>\n",
       "      <td>1</td>\n",
       "      <td>1</td>\n",
       "    </tr>\n",
       "    <tr>\n",
       "      <th>125</th>\n",
       "      <td>rt @caaiomachado: ta parecendo ate feriado... ...</td>\n",
       "      <td>1</td>\n",
       "      <td>1</td>\n",
       "    </tr>\n",
       "    <tr>\n",
       "      <th>126</th>\n",
       "      <td>acidente envolvendo motocicleta e dois carros ...</td>\n",
       "      <td>0</td>\n",
       "      <td>0</td>\n",
       "    </tr>\n",
       "    <tr>\n",
       "      <th>127</th>\n",
       "      <td>@apyus @veramagalhaes levei 1h30 para chegar n...</td>\n",
       "      <td>0</td>\n",
       "      <td>0</td>\n",
       "    </tr>\n",
       "    <tr>\n",
       "      <th>128</th>\n",
       "      <td>@pedroafonsop + transito horrivel</td>\n",
       "      <td>1</td>\n",
       "      <td>0</td>\n",
       "    </tr>\n",
       "    <tr>\n",
       "      <th>129</th>\n",
       "      <td>eu ja saí de casa outros dias nesse horário e ...</td>\n",
       "      <td>1</td>\n",
       "      <td>1</td>\n",
       "    </tr>\n",
       "    <tr>\n",
       "      <th>130</th>\n",
       "      <td>rt @correio: morre homem baleado por pm após b...</td>\n",
       "      <td>2</td>\n",
       "      <td>2</td>\n",
       "    </tr>\n",
       "    <tr>\n",
       "      <th>131</th>\n",
       "      <td>rt @_pambenevides: essa segunda está muito est...</td>\n",
       "      <td>1</td>\n",
       "      <td>1</td>\n",
       "    </tr>\n",
       "    <tr>\n",
       "      <th>132</th>\n",
       "      <td>esse trânsito da itatiaia acaba comigo pqp</td>\n",
       "      <td>0</td>\n",
       "      <td>0</td>\n",
       "    </tr>\n",
       "    <tr>\n",
       "      <th>133</th>\n",
       "      <td>acidente c/ duas mortes na estrada do mar, em ...</td>\n",
       "      <td>0</td>\n",
       "      <td>2</td>\n",
       "    </tr>\n",
       "    <tr>\n",
       "      <th>134</th>\n",
       "      <td>@ericoleandro sim! a cidade inteira está meio ...</td>\n",
       "      <td>1</td>\n",
       "      <td>1</td>\n",
       "    </tr>\n",
       "    <tr>\n",
       "      <th>135</th>\n",
       "      <td>total de 0% de gente na rua hoje, não tem trân...</td>\n",
       "      <td>1</td>\n",
       "      <td>1</td>\n",
       "    </tr>\n",
       "    <tr>\n",
       "      <th>136</th>\n",
       "      <td>@_lbbrito to presa num trânsito que não pegava...</td>\n",
       "      <td>1</td>\n",
       "      <td>0</td>\n",
       "    </tr>\n",
       "    <tr>\n",
       "      <th>137</th>\n",
       "      <td>@oestebrook e o trânsito pra quem precisa sair...</td>\n",
       "      <td>0</td>\n",
       "      <td>0</td>\n",
       "    </tr>\n",
       "    <tr>\n",
       "      <th>138</th>\n",
       "      <td>@layla_bolsonaro @ecantanhede a zica , a dengu...</td>\n",
       "      <td>2</td>\n",
       "      <td>2</td>\n",
       "    </tr>\n",
       "    <tr>\n",
       "      <th>139</th>\n",
       "      <td>nao era pra galera estar em quarentena? pq dea...</td>\n",
       "      <td>1</td>\n",
       "      <td>0</td>\n",
       "    </tr>\n",
       "    <tr>\n",
       "      <th>140</th>\n",
       "      <td>última saída de casa pra resolver umas coisas ...</td>\n",
       "      <td>1</td>\n",
       "      <td>2</td>\n",
       "    </tr>\n",
       "    <tr>\n",
       "      <th>141</th>\n",
       "      <td>. rt @elpais_brasil: “preferi aproveitar a vid...</td>\n",
       "      <td>2</td>\n",
       "      <td>2</td>\n",
       "    </tr>\n",
       "    <tr>\n",
       "      <th>142</th>\n",
       "      <td>rt @soualvinegra: acabou de mostrar no rjtv qu...</td>\n",
       "      <td>1</td>\n",
       "      <td>1</td>\n",
       "    </tr>\n",
       "    <tr>\n",
       "      <th>143</th>\n",
       "      <td>@camararpseli @capuzzometal a questão não é pa...</td>\n",
       "      <td>1</td>\n",
       "      <td>2</td>\n",
       "    </tr>\n",
       "    <tr>\n",
       "      <th>144</th>\n",
       "      <td>obra de drenagem altera trânsito na zona sul d...</td>\n",
       "      <td>1</td>\n",
       "      <td>0</td>\n",
       "    </tr>\n",
       "    <tr>\n",
       "      <th>145</th>\n",
       "      <td>radial leste com trânsito leve, é tá acontecen...</td>\n",
       "      <td>1</td>\n",
       "      <td>1</td>\n",
       "    </tr>\n",
       "    <tr>\n",
       "      <th>146</th>\n",
       "      <td>aiai, acabei de presenciar uma batida de trâns...</td>\n",
       "      <td>2</td>\n",
       "      <td>2</td>\n",
       "    </tr>\n",
       "    <tr>\n",
       "      <th>147</th>\n",
       "      <td>pude sentir o impacto no trânsito na manhã des...</td>\n",
       "      <td>1</td>\n",
       "      <td>1</td>\n",
       "    </tr>\n",
       "    <tr>\n",
       "      <th>148</th>\n",
       "      <td>eu não tô entendendo esse trânsito parado de m...</td>\n",
       "      <td>0</td>\n",
       "      <td>0</td>\n",
       "    </tr>\n",
       "    <tr>\n",
       "      <th>149</th>\n",
       "      <td>bh está parecendo feriado: trânsito bom; comér...</td>\n",
       "      <td>1</td>\n",
       "      <td>1</td>\n",
       "    </tr>\n",
       "  </tbody>\n",
       "</table>\n",
       "<p>150 rows × 3 columns</p>\n",
       "</div>"
      ],
      "text/plain": [
       "                                                 Tweet  Resultado Treinamento  \\\n",
       "0    todo mundo resolveu ir trabalhar de carro hoje...                      1   \n",
       "1    @gerdwenzel @tozzafla mas é a região com maior...                      1   \n",
       "2    cheguei em vila velha. vim no lado do sol e tá...                      1   \n",
       "3    rt @barretojoaog: caraca, as pessoas não estão...                      1   \n",
       "4    bora dar uma moral praquela galera que se arri...                      2   \n",
       "5    o caminho que costumo pegar todos os dias sem ...                      2   \n",
       "6    ontem eu reacendi meu amor por dirigir. pela j...                      0   \n",
       "7    rt @glaucosb: @augustodeab @pavarini as mortes...                      2   \n",
       "8    os dias de suspensão do corona deram efeito he...                      0   \n",
       "9                           que transito filha da puta                      2   \n",
       "10   gostei dessa auto escola, tão fazendo a gnt tr...                      0   \n",
       "11                           @xgvrcia e no trânsito tb                      1   \n",
       "12   @anygabrielly amas para eles ter arma em casa ...                      2   \n",
       "13   segunda nossa de cada dia, junto com nosos trâ...                      1   \n",
       "14   passando no jornal que o movimento aqui na cid...                      1   \n",
       "15   #cnh #crime #trânsito\\ndirigir com cnh suspens...                      2   \n",
       "16   @veramagalhaes , com trânsito menor, são paulo...                      1   \n",
       "17   @semob_bel a semob precisa se organizar, av. n...                      0   \n",
       "18   vamo uber eu acredito no seu potencial contra ...                      0   \n",
       "19   rt @ishpedro: coronavírus não chega em luziâni...                      2   \n",
       "20   comecei a segunda bem, com trânsito e chegando...                      1   \n",
       "21   foram avisados por uma criança baleada que aca...                      0   \n",
       "22                     tomara q 32 esteja sem trânsito                      1   \n",
       "23   @quinhodepaula @uol e o doria estava lá. abriu...                      1   \n",
       "24   ônibus vazio, 0 estudantes, 0 trânsito, obriga...                      1   \n",
       "25   @springhare2000 @folha a ignorância chegou em ...                      2   \n",
       "26   brasil - trecho de planalto\\ntempo bom\\ntrânsi...                      1   \n",
       "27   ponte | deslocamento #sentido_rio: 12 min; htt...                      0   \n",
       "28   medidas para restringir o ingresso em terras i...                      2   \n",
       "29   professor falando q n é a favor da liberação d...                      2   \n",
       "..                                                 ...                    ...   \n",
       "120  @_bellelais @cicerovidal4 kkkkkkkkkkkkkkkkkkkk...                      2   \n",
       "121  rt @cco_sf: boa tarde!\\ninformamos que o trâns...                      0   \n",
       "122          chefe peguei trânsito por causa do corona                      1   \n",
       "123  bom dia, pegar esse trânsito tranquilo de manh...                      1   \n",
       "124  nao tem trânsito nenhum em são paulo meu deus ...                      1   \n",
       "125  rt @caaiomachado: ta parecendo ate feriado... ...                      1   \n",
       "126  acidente envolvendo motocicleta e dois carros ...                      0   \n",
       "127  @apyus @veramagalhaes levei 1h30 para chegar n...                      0   \n",
       "128                  @pedroafonsop + transito horrivel                      1   \n",
       "129  eu ja saí de casa outros dias nesse horário e ...                      1   \n",
       "130  rt @correio: morre homem baleado por pm após b...                      2   \n",
       "131  rt @_pambenevides: essa segunda está muito est...                      1   \n",
       "132         esse trânsito da itatiaia acaba comigo pqp                      0   \n",
       "133  acidente c/ duas mortes na estrada do mar, em ...                      0   \n",
       "134  @ericoleandro sim! a cidade inteira está meio ...                      1   \n",
       "135  total de 0% de gente na rua hoje, não tem trân...                      1   \n",
       "136  @_lbbrito to presa num trânsito que não pegava...                      1   \n",
       "137  @oestebrook e o trânsito pra quem precisa sair...                      0   \n",
       "138  @layla_bolsonaro @ecantanhede a zica , a dengu...                      2   \n",
       "139  nao era pra galera estar em quarentena? pq dea...                      1   \n",
       "140  última saída de casa pra resolver umas coisas ...                      1   \n",
       "141  . rt @elpais_brasil: “preferi aproveitar a vid...                      2   \n",
       "142  rt @soualvinegra: acabou de mostrar no rjtv qu...                      1   \n",
       "143  @camararpseli @capuzzometal a questão não é pa...                      1   \n",
       "144  obra de drenagem altera trânsito na zona sul d...                      1   \n",
       "145  radial leste com trânsito leve, é tá acontecen...                      1   \n",
       "146  aiai, acabei de presenciar uma batida de trâns...                      2   \n",
       "147  pude sentir o impacto no trânsito na manhã des...                      1   \n",
       "148  eu não tô entendendo esse trânsito parado de m...                      0   \n",
       "149  bh está parecendo feriado: trânsito bom; comér...                      1   \n",
       "\n",
       "     Classificação  \n",
       "0                0  \n",
       "1                0  \n",
       "2                0  \n",
       "3                1  \n",
       "4                0  \n",
       "5                1  \n",
       "6                1  \n",
       "7                0  \n",
       "8                1  \n",
       "9                0  \n",
       "10               0  \n",
       "11               2  \n",
       "12               2  \n",
       "13               1  \n",
       "14               0  \n",
       "15               2  \n",
       "16               1  \n",
       "17               2  \n",
       "18               0  \n",
       "19               0  \n",
       "20               0  \n",
       "21               2  \n",
       "22               2  \n",
       "23               2  \n",
       "24               1  \n",
       "25               2  \n",
       "26               1  \n",
       "27               2  \n",
       "28               2  \n",
       "29               2  \n",
       "..             ...  \n",
       "120              2  \n",
       "121              0  \n",
       "122              2  \n",
       "123              1  \n",
       "124              1  \n",
       "125              1  \n",
       "126              0  \n",
       "127              0  \n",
       "128              0  \n",
       "129              1  \n",
       "130              2  \n",
       "131              1  \n",
       "132              0  \n",
       "133              2  \n",
       "134              1  \n",
       "135              1  \n",
       "136              0  \n",
       "137              0  \n",
       "138              2  \n",
       "139              0  \n",
       "140              2  \n",
       "141              2  \n",
       "142              1  \n",
       "143              2  \n",
       "144              0  \n",
       "145              1  \n",
       "146              2  \n",
       "147              1  \n",
       "148              0  \n",
       "149              1  \n",
       "\n",
       "[150 rows x 3 columns]"
      ]
     },
     "execution_count": 16,
     "metadata": {},
     "output_type": "execute_result"
    }
   ],
   "source": [
    "    dic={\n",
    "        'Tweet': tweetsT[\"Teste\"],\n",
    "        'Resultado Treinamento': classificacao_todos,\n",
    "        'Classificação': tweetsT[\"Classificação\"]\n",
    "    }\n",
    "tabela_classifiação = pd.DataFrame(dic, columns=['Tweet','Resultado Treinamento','Classificação'])\n",
    "tabela_classifiação"
   ]
  },
  {
   "cell_type": "markdown",
   "metadata": {},
   "source": [
    "Calculando a probabilidade de acertos:"
   ]
  },
  {
   "cell_type": "code",
   "execution_count": 17,
   "metadata": {
    "scrolled": false
   },
   "outputs": [
    {
     "name": "stdout",
     "output_type": "stream",
     "text": [
      "A porcentagem de acertos é de 31.333333333333336 %\n",
      "A porcentagem de verdadeiros negativos é de 14.666666666666666 %\n",
      "A porcentagem de verdadeiros positivos é de 21.333333333333336 %\n",
      "A porcentagem de verdadeiros não relacionados é de 26.666666666666668 %\n",
      "A porcentagem de falsos negativos é de 8.666666666666668 %\n",
      "A porcentagem de falsos positivos é de 18.666666666666668 %\n",
      "A porcentagem de falsos não relacionados é de 10.0 %\n"
     ]
    }
   ],
   "source": [
    "V_Neg = 0\n",
    "V_Pos = 0\n",
    "V_N_Rel = 0\n",
    "F_Neg = 0\n",
    "F_Pos = 0\n",
    "F_N_Rel = 0\n",
    "for resultado_teste,certo in zip(classificacao_todos,tweetsT[\"Classificação\"]):\n",
    "    if resultado_teste == certo:\n",
    "        if resultado_teste==0 and certo==0:\n",
    "            V_Neg += 1\n",
    "        elif resultado_teste==1 and certo==1:\n",
    "            V_Pos += 1\n",
    "        else:\n",
    "            V_N_Rel +=1\n",
    "                                 \n",
    "    elif resultado_teste!= certo:\n",
    "        if resultado_teste==0:\n",
    "             F_Neg += 1\n",
    "        elif resultado_teste==1:\n",
    "            F_Pos += 1\n",
    "        else:\n",
    "            F_N_Rel += 1\n",
    "        \n",
    "v = V_Neg+F_Neg+V_Pos+F_Pos+V_N_Rel+F_N_Rel\n",
    "acerto= V_Neg+V_Pos+V_N_Rel\n",
    "\n",
    "print('A porcentagem de acertos é de {} %'.format((acerto/300)*100))\n",
    "print('A porcentagem de verdadeiros negativos é de {} %'.format((V_Neg/v)*100))\n",
    "print('A porcentagem de verdadeiros positivos é de {} %'.format((V_Pos/v)*100))\n",
    "print('A porcentagem de verdadeiros não relacionados é de {} %'.format((V_N_Rel/v)*100))\n",
    "print('A porcentagem de falsos negativos é de {} %'.format((F_Neg/v)*100))\n",
    "print('A porcentagem de falsos positivos é de {} %'.format((F_Pos/v)*100))\n",
    "print('A porcentagem de falsos não relacionados é de {} %'.format((F_N_Rel/v)*100))\n",
    "      \n",
    "\n",
    "            \n",
    "                                 \n",
    "    "
   ]
  },
  {
   "cell_type": "markdown",
   "metadata": {},
   "source": [
    "### Conclusão:"
   ]
  },
  {
   "cell_type": "markdown",
   "metadata": {},
   "source": [
    "Após calcular as porcentagens de acertos, é visto que a taxa de acerto não é muito alta, isso é comprovado com a comparação dos tweets classificados manualmente:"
   ]
  },
  {
   "cell_type": "code",
   "execution_count": 18,
   "metadata": {
    "scrolled": true
   },
   "outputs": [
    {
     "data": {
      "text/plain": [
       "2    0.413333\n",
       "0    0.306667\n",
       "1    0.280000\n",
       "Name: Classificação, dtype: float64"
      ]
     },
     "execution_count": 18,
     "metadata": {},
     "output_type": "execute_result"
    }
   ],
   "source": [
    "tweetsT['Classificação'].value_counts(True)"
   ]
  },
  {
   "cell_type": "markdown",
   "metadata": {},
   "source": [
    "A tabela acima significa o percentil da quantidade de vezes que os tweets foram classificados em cada categoria, com isso é possível vizualizar que a porcentagem de acertos foi menor do que a porcentagem de vezes que a categoria 2 foi classificada, ou seja, o classificador automático não acerta na maioria das vezes. "
   ]
  },
  {
   "cell_type": "markdown",
   "metadata": {},
   "source": [
    "Porém, foram usados 'poucos' tweets na base de treinamento, com isso, se a base tivesse mais tweets a porcentagem de acertos tenderia a aumentar, já que teriam mais tweets para treinamento, isso pois as probabilidades de verdaderios é maior que as dos falsos em todas categorias."
   ]
  },
  {
   "cell_type": "markdown",
   "metadata": {},
   "source": [
    "Apesar de ser necessário aumentar a base de treinamento para melhorar a porcentagem de acerto, não estária correto classificar novos tweets usando o classificador automático, isso porque, como é visto o classificador não funciona perfeitamente, sendo assim se ele fosse usado poderia acabar classificando tweets de forma erronia e com isso a base de treinamento não estaria correta igual se fosse classificada manualmente. Tendo isso em vista os o classificador classificaria de forma errada em uma taxa maior semrpre que fossem adicionados novos tweets à base de treinamento."
   ]
  },
  {
   "cell_type": "markdown",
   "metadata": {},
   "source": [
    "Outras formas de usar o método naive bayes para prever informações seriam como por exemplo na área da medicina, podendo prever a probabilidade de chance de algum paciente tiver contraído X doença utilizando os sintomas apresentados e a probabilidade de cada sintoma aparecer em determinada doença, com isso seria mais seguro para os pacientes serem diagnosticados via internet. "
   ]
  },
  {
   "cell_type": "markdown",
   "metadata": {},
   "source": [
    "Após as análises acima é possível concluir que os o classificador automático é muito útil, porém ele fica mais eficaz de acordo com a base de treinamento, quanto maior for a base melhor será o treinamento do classificador, outra forma seria considerar emojis usados e calculando qual seria a probabilidade de cada um ser boa, ruim ou não relacionado. Com essas e outras formas possivelmete melhoraria a quantidade de acertos que o Classificado teria."
   ]
  },
  {
   "cell_type": "markdown",
   "metadata": {},
   "source": [
    "___\n",
    "## Referências"
   ]
  },
  {
   "cell_type": "markdown",
   "metadata": {},
   "source": [
    "[Naive Bayes and Text Classification](https://arxiv.org/pdf/1410.5329.pdf)\n",
    "\n",
    "[A practical explanation of a Naive Bayes Classifier](https://monkeylearn.com/blog/practical-explanation-naive-bayes-classifier/)"
   ]
  },
  {
   "cell_type": "code",
   "execution_count": null,
   "metadata": {},
   "outputs": [],
   "source": []
  }
 ],
 "metadata": {
  "kernelspec": {
   "display_name": "Python 3",
   "language": "python",
   "name": "python3"
  },
  "language_info": {
   "codemirror_mode": {
    "name": "ipython",
    "version": 3
   },
   "file_extension": ".py",
   "mimetype": "text/x-python",
   "name": "python",
   "nbconvert_exporter": "python",
   "pygments_lexer": "ipython3",
   "version": "3.7.4"
  }
 },
 "nbformat": 4,
 "nbformat_minor": 4
}
